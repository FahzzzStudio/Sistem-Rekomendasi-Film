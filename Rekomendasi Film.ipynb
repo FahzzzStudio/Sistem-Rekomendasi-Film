{
 "cells": [
  {
   "cell_type": "code",
   "execution_count": 11,
   "id": "2e1fb753-7d34-4b0c-b0f5-40c9d1da5839",
   "metadata": {},
   "outputs": [],
   "source": [
    "# Movie Recomendation System \n",
    "# 1. Import library dasar\n",
    "\n",
    "import pandas as pd # untuk mengelola dataset\n",
    "import ast # untuk parsing string JSON -> object python (List/dict)"
   ]
  },
  {
   "cell_type": "code",
   "execution_count": 12,
   "id": "74d831d3-2c06-4581-9333-50a0d45a7543",
   "metadata": {},
   "outputs": [],
   "source": [
    "#  2. Load dataset\n",
    "\n",
    "movies = pd.read_csv(\"tmdb_5000_movies.csv\") # data film (overview, genre, dll.)\n",
    "credits = pd.read_csv(\"tmdb_5000_credits.csv\") # data pemeran & kru\n",
    "\n",
    "# Gabungkan dataset berdasarkan judul film\n",
    "movies = movies.merge(credits, on=\"title\")\n",
    "\n",
    "# Ambil kolom penting saja\n",
    "movies = movies[[\"movie_id\", \"title\", \"overview\", \"genres\", \"keywords\", \"cast\", \"crew\"]]"
   ]
  },
  {
   "cell_type": "code",
   "execution_count": 13,
   "id": "d9d271e8-7854-488e-a815-30096c4468e0",
   "metadata": {},
   "outputs": [],
   "source": [
    "# 3. Function untuk preprocessing kolom JSON\n",
    "\n",
    "# Ubah JSON string -> list nama (genre / keyword)\n",
    "def convert(text):\n",
    "    try:\n",
    "        return [i[\"name\"] for i in ast.literal_eval(text)]\n",
    "    except:\n",
    "        return [] # Kalau nan/error parsing -> list kosong\n",
    "\n",
    "movies[\"genres\"] = movies[\"genres\"].apply(convert)\n",
    "movies[\"keywords\"] = movies[\"keywords\"].apply(convert)\n",
    "\n",
    "# Ambil maksimal 3 aktor utama\n",
    "def convert_cast(text):\n",
    "    try:\n",
    "        cast_list = []\n",
    "        counter = 0\n",
    "        for i in ast.literal_eval(text):\n",
    "            if counter < 3:\n",
    "                cast_list.append(i[\"name\"])\n",
    "            counter += 1\n",
    "        return cast_list\n",
    "    except:\n",
    "        return[]\n",
    "\n",
    "movies[\"cast\"] = movies[\"cast\"].apply(convert_cast)\n",
    "\n",
    "# Ambil nama sutradara\n",
    "def fetch_director(text):\n",
    "    try:\n",
    "        for i in ast.literal_eval(text):\n",
    "            if i[\"job\"] == \"Director\":\n",
    "                return [i[\"name\"]]\n",
    "        return []\n",
    "    except:\n",
    "        return []\n",
    "\n",
    "movies[\"crew\"] = movies[\"crew\"].apply(fetch_director)"
   ]
  },
  {
   "cell_type": "code",
   "execution_count": 14,
   "id": "23c0b649-a4e8-4593-aae3-50fab6783559",
   "metadata": {},
   "outputs": [],
   "source": [
    "# 4. Preprocessing teks (overview -> token list)\n",
    "\n",
    "# Ganti Nan di overview dengan string kosong\n",
    "movies[\"overview\"] = movies[\"overview\"].fillna(\"\")\n",
    "\n",
    "# Pecah overview jadi list kata\n",
    "movies[\"overview\"] = movies[\"overview\"].apply(lambda x: x.split() if isinstance(x, str) else[])\n",
    "\n",
    "# Hilangkan spasi pada nama orang/genre (contoh: \"Sam Worthington\" -> \"SamWorthington\")\n",
    "def remove_space(word_list):\n",
    "    return [i.replace(\" \", \"\") for i in word_list]\n",
    "\n",
    "movies[\"cast\"] = movies[\"cast\"].apply(remove_space)\n",
    "movies[\"crew\"] = movies[\"crew\"].apply(remove_space)\n",
    "movies[\"genres\"] = movies[\"genres\"].apply(remove_space)\n",
    "movies[\"keywords\"] = movies[\"keywords\"].apply(remove_space)"
   ]
  },
  {
   "cell_type": "code",
   "execution_count": 15,
   "id": "bd2f0141-bf78-4457-9b48-204aed76d8f5",
   "metadata": {},
   "outputs": [],
   "source": [
    "# 5. Buat kolom \"tags\" gabungan semua fitur\n",
    "\n",
    "movies[\"tags\"] = (\n",
    "    movies[\"overview\"]\n",
    "    + movies[\"genres\"]\n",
    "    + movies[\"keywords\"]\n",
    "    + movies[\"cast\"]\n",
    "    + movies[\"crew\"]\n",
    ")\n",
    "\n",
    "# Ambil hanya kolom final\n",
    "df_baru = movies[[\"movie_id\", \"title\", \"tags\"]].copy() # penggunaan ini besok tanyakan pak adi\n",
    "\n",
    "# Ubah semua list kata menjadi string teks\n",
    "df_baru[\"tags\"] = df_baru[\"tags\"].apply(lambda x: \" \".join(x))\n",
    "\n",
    "# Ubah semua ke lowercase\n",
    "df_baru[\"tags\"] = df_baru[\"tags\"].apply(lambda x: x.lower())\n",
    "\n",
    "#  📊 Analogi gampangnya:\n",
    "# Tanpa .copy() = kamu kerja di dokumen Google Docs langsung → setiap ubahan nyangkut ke file asli.\n",
    "# Dengan .copy() = kamu download dulu file → edit sesuka hati, file asli tetap aman.\n",
    "\n",
    "# ✅ Kesimpulan:\n",
    "# Kalau kamu hanya mau baca data (misalnya buat analisis, print, head, dsb.) → tanpa .copy() gak masalah.\n",
    "# Kalau kamu akan modifikasi datanya (tambah kolom baru, edit value, preprocessing) → selalu pakai .copy() biar aman dari error & warning."
   ]
  },
  {
   "cell_type": "code",
   "execution_count": 16,
   "id": "f8ac5295-8dd0-43ff-a008-6ff335361220",
   "metadata": {},
   "outputs": [],
   "source": [
    "# 6. Steming untuk normalisasi kata\n",
    "\n",
    "import nltk\n",
    "from nltk.stem import PorterStemmer\n",
    "\n",
    "ps = PorterStemmer()\n",
    "\n",
    "def stems(text):\n",
    "    return \" \".join([ps.stem(i) for i in text.split()])\n",
    "\n",
    "df_baru[\"tags\"] = df_baru[\"tags\"].apply(stems)"
   ]
  },
  {
   "cell_type": "code",
   "execution_count": 19,
   "id": "01b58b09-c2ff-4126-a11e-39e9bc60e1d8",
   "metadata": {},
   "outputs": [],
   "source": [
    "# 7. Vectorization dengan CountVectorizer\n",
    "\n",
    "from sklearn.feature_extraction.text import CountVectorizer\n",
    "\n",
    "cv = CountVectorizer(max_features=5000, stop_words=\"english\")\n",
    "vector = cv.fit_transform(df_baru[\"tags\"]).toarray()"
   ]
  },
  {
   "cell_type": "code",
   "execution_count": 21,
   "id": "211f1089-cb65-4b00-910d-105e29e4ec42",
   "metadata": {},
   "outputs": [],
   "source": [
    "# 8. Hitung Cosinie Similarity antar film\n",
    "\n",
    "from sklearn.metrics.pairwise import cosine_similarity\n",
    "\n",
    "similarity = cosine_similarity(vector)"
   ]
  },
  {
   "cell_type": "code",
   "execution_count": 22,
   "id": "2ec9b3f1-3aae-4cd4-b992-0198def3406d",
   "metadata": {},
   "outputs": [
    {
     "name": "stdout",
     "output_type": "stream",
     "text": [
      "Spider-Man 3\n",
      "Spider-Man 2\n",
      "The Amazing Spider-Man 2\n",
      "Arachnophobia\n",
      "Kick-Ass\n"
     ]
    }
   ],
   "source": [
    "# 9. Fungsi rekomendasi\n",
    "\n",
    "def recommend(movie):\n",
    "    # Ambil index file berdasarkan judul\n",
    "    index = df_baru[df_baru[\"title\"] == movie].index[0]\n",
    "\n",
    "    # Hitung jarak kemiripan dengan semua film\n",
    "    distances = sorted(\n",
    "        list(enumerate(similarity[index])),\n",
    "        reverse=True,\n",
    "        key=lambda x: x[1]\n",
    "    )\n",
    "\n",
    "    # Cetak 5 rekomendasi teratas\n",
    "    for i in distances[1:6]:\n",
    "        print(df_baru.iloc[i[0]].title)\n",
    "\n",
    "# Contoh uji coba\n",
    "recommend(\"Spider-Man\")"
   ]
  },
  {
   "cell_type": "code",
   "execution_count": 23,
   "id": "5037007f-3cd2-4768-a085-56da4d3f7679",
   "metadata": {},
   "outputs": [
    {
     "data": {
      "text/plain": [
       "['similarity.joblib']"
      ]
     },
     "execution_count": 23,
     "metadata": {},
     "output_type": "execute_result"
    }
   ],
   "source": [
    "# Simpan hasil model & data dengan joblib\n",
    "\n",
    "import joblib\n",
    "\n",
    "# Simpan dataframe hasil preprocessing\n",
    "joblib.dump(df_baru, \"movie_list.joblib\")\n",
    "\n",
    "# Simpan matrix similarity\n",
    "joblib.dump(similarity, \"similarity.joblib\")"
   ]
  }
 ],
 "metadata": {
  "kernelspec": {
   "display_name": "Python 3 (ipykernel)",
   "language": "python",
   "name": "python3"
  },
  "language_info": {
   "codemirror_mode": {
    "name": "ipython",
    "version": 3
   },
   "file_extension": ".py",
   "mimetype": "text/x-python",
   "name": "python",
   "nbconvert_exporter": "python",
   "pygments_lexer": "ipython3",
   "version": "3.13.7"
  }
 },
 "nbformat": 4,
 "nbformat_minor": 5
}
